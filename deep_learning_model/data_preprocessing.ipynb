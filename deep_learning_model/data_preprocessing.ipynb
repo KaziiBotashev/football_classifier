{
 "cells": [
  {
   "cell_type": "code",
   "execution_count": 2,
   "metadata": {},
   "outputs": [],
   "source": [
    "import splitfolders\n",
    "import numpy as np\n",
    "from pandas import read_csv\n",
    "import os\n",
    "from pathlib import Path\n",
    "import shutil\n",
    "import random\n",
    "import cv2\n",
    "from cv2 import dnn_superres\n",
    "import collections\n",
    "import scipy.ndimage as ndimage\n",
    "import matplotlib.pyplot as plt\n",
    "import seaborn as sns"
   ]
  },
  {
   "cell_type": "markdown",
   "metadata": {},
   "source": [
    "Read and manually label each image by player's torso direction as follows:\n",
    "1 - left\n",
    "3 - right\n",
    "5 - back\n",
    "2 - face"
   ]
  },
  {
   "cell_type": "code",
   "execution_count": null,
   "metadata": {},
   "outputs": [],
   "source": [
    "labels = read_csv(\"data/images_labelling.csv\")\n",
    "\n",
    "sr_path = \"trained_model/FSRCNN_x4.pb\"\n",
    "sr = dnn_superres.DnnSuperResImpl_create()\n",
    "sr.readModel(sr_path)\n",
    "sr.setModel(\"fsrcnn\", 4)\n",
    "\n",
    "Path(\"data/images_classes\").mkdir(parents=True, exist_ok=True)\n",
    "directions_all = []\n",
    "imageNames_all = []\n",
    "print(\"Processing images...\")\n",
    "for class_id in range(labels[\"label\"].min(), labels[\"label\"].max()+1):\n",
    "    img_ids = np.array(labels[labels[\"label\"] == class_id][\"boxid\"])\n",
    "    Path(\"data/images_classes/\"+str(class_id)).mkdir(parents=True, exist_ok=True)\n",
    "    directions_classes = []\n",
    "    imageNames_classes = []\n",
    "    for i, img_id in enumerate(img_ids):\n",
    "        image = cv2.imread(\"data/images/\"+str(img_id)+\".png\")\n",
    "        result = sr.upsample(image)\n",
    "        cv2.imwrite(\"data/images_classes/\"+str(class_id)+str(img_id)+\".png\", result)\n",
    "        imageNames_classes.append(img_id)\n",
    "        print(class_id, i)\n",
    "        plt.imshow(cv2.cvtColor(result, cv2.COLOR_BGR2RGB))\n",
    "        plt.show()\n",
    "        k = input()\n",
    "        if k == '1': \n",
    "            direction = 1\n",
    "            clear_output(wait=True)\n",
    "        elif k == '2': \n",
    "            direction = 2\n",
    "            clear_output(wait=True)\n",
    "        elif k == '3': \n",
    "            direction = 3\n",
    "            clear_output(wait=True)\n",
    "        elif k == '5': \n",
    "            direction = 5\n",
    "            clear_output(wait=True)\n",
    "        elif k == '0': \n",
    "            direction = 0\n",
    "            clear_output(wait=True)\n",
    "        directions_classes.append(direction)\n",
    "    directions_all.append(np.array(directions_classes))\n",
    "    imageNames_all.append(np.array(imageNames_classes))\n",
    "print(\"Saving directions...\")\n",
    "np.savez(\"data/bodyDirections.npz\", np.array(imageNames_all), np.array(directions_all))"
   ]
  },
  {
   "cell_type": "markdown",
   "metadata": {},
   "source": [
    "Split each class in subfolders according to labeled directions"
   ]
  },
  {
   "cell_type": "code",
   "execution_count": 27,
   "metadata": {},
   "outputs": [],
   "source": [
    "splitfolders.ratio(\"data/images_classes\", output=\"data/images_splited_balanced_upscaled\", seed=42, ratio=(.8, .1, .1), group_prefix=None)\n",
    "directions = np.load(\"data/bodyDirections.npz\")\n",
    "img_ids = directions[\"arr_0\"].reshape(-1)\n",
    "img_directions = directions[\"arr_1\"].reshape(-1)\n",
    "directions_classes = [0,1,2,3,5]\n",
    "train_path = 'data/images_splited_balanced_upscaled/train/'\n",
    "for class_id in range(25):\n",
    "    class_path = train_path + str(class_id)\n",
    "    for direction in directions_classes:\n",
    "        Path(class_path+\"/\"+str(direction)).mkdir(parents=True, exist_ok=True)\n",
    "    img_names = os.listdir(class_path)\n",
    "    for img_name in img_names:\n",
    "        if img_name[-1] == 'g':\n",
    "            img_direction_found = img_directions[np.where(img_ids == int(img_name[:-4]))]\n",
    "            shutil.move(class_path+'/'+img_name, class_path+'/'+str(img_direction_found[0])+'/'+img_name)"
   ]
  },
  {
   "cell_type": "markdown",
   "metadata": {},
   "source": [
    "Plot directions distribution for some class"
   ]
  },
  {
   "cell_type": "code",
   "execution_count": 37,
   "metadata": {},
   "outputs": [],
   "source": [
    "sns.displot(np.load(\"data/bodyDirections.npz\")[\"arr_1\"][4])"
   ]
  },
  {
   "cell_type": "markdown",
   "metadata": {},
   "source": [
    "Balance every direction by augmentation rotation and mirroring (left-right, right-left directions) for each class to 65 images"
   ]
  },
  {
   "cell_type": "code",
   "execution_count": 54,
   "metadata": {},
   "outputs": [],
   "source": [
    "low_angle = 5\n",
    "high_angle = 10\n",
    "filename_num = 100000\n",
    "\n",
    "for try_num in range(2):\n",
    "    for class_id in range(25):\n",
    "        path = train_path+str(class_id)+'/'\n",
    "        filenames_subclass_1 = os.listdir(path+\"1\")\n",
    "        filenames_subclass_2 = os.listdir(path+\"2\")\n",
    "        filenames_subclass_3 = os.listdir(path+\"3\")\n",
    "        filenames_subclass_5 = os.listdir(path+\"5\")\n",
    "\n",
    "        subclass_1 = len(os.listdir(path+'1/'))\n",
    "        subclass_2 = len(os.listdir(path+'2/'))\n",
    "        subclass_3 = len(os.listdir(path+'3/'))\n",
    "        subclass_5 = len(os.listdir(path+'5/'))\n",
    "\n",
    "        while subclass_1 < 65:\n",
    "            if len(filenames_subclass_3) != 0:\n",
    "                img = cv2.imread(path+\"3/\"+random.choice(filenames_subclass_3))\n",
    "                angle = random.choice([(high_angle - low_angle) * np.random.random_sample() + low_angle, \n",
    "                                       (low_angle - high_angle) * np.random.random_sample() - low_angle])\n",
    "                augmented_image = np.flip(ndimage.rotate(img, angle, reshape = False, mode = \"nearest\"),1)\n",
    "                cv2.imwrite(path+\"1/\"+str(filename_num)+\".png\", augmented_image)\n",
    "            filename_num += 1\n",
    "            subclass_1 += 1\n",
    "\n",
    "        while subclass_3 < 65:\n",
    "            if len(filenames_subclass_1) != 0:\n",
    "                img = cv2.imread(path+\"1/\"+random.choice(filenames_subclass_1))\n",
    "                angle = random.choice([(high_angle - low_angle) * np.random.random_sample() + low_angle, \n",
    "                                       (low_angle - high_angle) * np.random.random_sample() - low_angle])\n",
    "                augmented_image = np.flip(ndimage.rotate(img, angle, reshape = False, mode = \"nearest\"),1)\n",
    "                cv2.imwrite(path+\"3/\"+str(filename_num)+\".png\", augmented_image)\n",
    "            filename_num += 1\n",
    "            subclass_3 += 1\n",
    "\n",
    "        while subclass_2 < 65:\n",
    "            if len(filenames_subclass_2) != 0:\n",
    "                img = cv2.imread(path+\"2/\"+random.choice(filenames_subclass_2))\n",
    "                angle = random.choice([(high_angle - low_angle) * np.random.random_sample() + low_angle, \n",
    "                                       (low_angle - high_angle) * np.random.random_sample() - low_angle])\n",
    "                augmented_image = ndimage.rotate(img, angle, reshape = False, mode = \"nearest\")\n",
    "                cv2.imwrite(path+\"2/\"+str(filename_num)+\".png\", augmented_image)\n",
    "            filename_num += 1\n",
    "            subclass_2 += 1\n",
    "\n",
    "        while subclass_5 < 65:\n",
    "            if len(filenames_subclass_5) != 0:\n",
    "                img = cv2.imread(path+\"5/\"+random.choice(filenames_subclass_5))\n",
    "                angle = random.choice([(high_angle - low_angle) * np.random.random_sample() + low_angle, \n",
    "                                       (low_angle - high_angle) * np.random.random_sample() - low_angle])\n",
    "                augmented_image = ndimage.rotate(img, angle, reshape = False, mode = \"nearest\")\n",
    "                cv2.imwrite(path+\"5/\"+str(filename_num)+\".png\", augmented_image)\n",
    "            filename_num += 1\n",
    "            subclass_5 += 1"
   ]
  },
  {
   "cell_type": "markdown",
   "metadata": {},
   "source": [
    "If something went wrong delete all augmented images"
   ]
  },
  {
   "cell_type": "code",
   "execution_count": 64,
   "metadata": {},
   "outputs": [],
   "source": [
    "delete_augmented = False\n",
    "if delete_augmented:\n",
    "    for class_id in range(25):\n",
    "        for direct_id in directions_classes:\n",
    "            path_imgs = train_path+str(class_id)+'/'+str(direct_id)\n",
    "            images = os.listdir(path_imgs)\n",
    "            for img in images:\n",
    "                if int(img[:-4]) >= 100000:\n",
    "                    os.remove(path_imgs+'/'+img)"
   ]
  },
  {
   "cell_type": "markdown",
   "metadata": {},
   "source": [
    "Merge all directions back in class directory"
   ]
  },
  {
   "cell_type": "code",
   "execution_count": 3,
   "metadata": {},
   "outputs": [],
   "source": [
    "train_path = 'data/images_splited_balanced_upscaled/train/'\n",
    "directions_classes = [0,1,2,3,5]\n",
    "for class_id in range(25):\n",
    "    for direct_id in directions_classes:\n",
    "        path_imgs = train_path+str(class_id)+'/'+str(direct_id)\n",
    "        images = os.listdir(path_imgs)\n",
    "        for img in images:\n",
    "            shutil.move(path_imgs+'/'+img, train_path+str(class_id))\n",
    "        os.rmdir(path_imgs)"
   ]
  }
 ],
 "metadata": {
  "kernelspec": {
   "display_name": "Python 3",
   "language": "python",
   "name": "python3"
  },
  "language_info": {
   "codemirror_mode": {
    "name": "ipython",
    "version": 3
   },
   "file_extension": ".py",
   "mimetype": "text/x-python",
   "name": "python",
   "nbconvert_exporter": "python",
   "pygments_lexer": "ipython3",
   "version": "3.7.6"
  }
 },
 "nbformat": 4,
 "nbformat_minor": 4
}
